{
 "cells": [
  {
   "cell_type": "code",
   "execution_count": 6,
   "metadata": {},
   "outputs": [
    {
     "name": "stdout",
     "output_type": "stream",
     "text": [
      "Requirement already satisfied: pandas in c:\\users\\administrator\\desktop\\gurudev\\.venv\\lib\\site-packages (2.2.2)\n"
     ]
    },
    {
     "name": "stderr",
     "output_type": "stream",
     "text": [
      "ERROR: Could not find a version that satisfies the requirement as (from versions: none)\n",
      "ERROR: No matching distribution found for as\n"
     ]
    }
   ],
   "source": [
    "!pip install pandas as pd"
   ]
  },
  {
   "cell_type": "code",
   "execution_count": 10,
   "metadata": {},
   "outputs": [
    {
     "name": "stdout",
     "output_type": "stream",
     "text": [
      "Database 'redbus_1' ensured.\n",
      "Data inserted successfully into MySQL database.\n",
      "Data inserted successfully into MySQL database.\n",
      "Error: 1366 (HY000): Incorrect decimal value: 'INR 676' for column 'Price' at row 1\n",
      "Error: 1366 (HY000): Incorrect decimal value: 'INR 507' for column 'Price' at row 1\n",
      "Data inserted successfully into MySQL database.\n",
      "Data inserted successfully into MySQL database.\n",
      "Error: 1366 (HY000): Incorrect decimal value: 'INR 95' for column 'Price' at row 1\n",
      "Data inserted successfully into MySQL database.\n",
      "Data inserted successfully into MySQL database.\n",
      "Data inserted successfully into MySQL database.\n"
     ]
    }
   ],
   "source": [
    "import pandas as pd\n",
    "import mysql.connector\n",
    "import os\n",
    "\n",
    "# Function to create the database if it doesn't exist\n",
    "def create_database(cursor, database_name):\n",
    "    try:\n",
    "        cursor.execute(f\"CREATE DATABASE IF NOT EXISTS {database_name}\")\n",
    "        print(f\"Database '{database_name}' ensured.\")\n",
    "    except mysql.connector.Error as err:\n",
    "        print(f\"Failed creating database: {err}\")\n",
    "\n",
    "# Function to insert data from DataFrame to MySQL\n",
    "def insert_data_from_df_to_mysql(df, connection):\n",
    "    try:\n",
    "        cursor = connection.cursor(dictionary=True)\n",
    "        # Create table if it does not exist\n",
    "        cursor.execute(\"\"\"\n",
    "        CREATE TABLE IF NOT EXISTS bus_details (\n",
    "            Route_Name TEXT,\n",
    "            Route_Link TEXT,\n",
    "            Bus_Name TEXT,\n",
    "            Bus_Type TEXT,\n",
    "            Departing_Time TIME,\n",
    "            Duration TEXT,\n",
    "            Reaching_Time TIME,\n",
    "            Star_Rating FLOAT,\n",
    "            Price DECIMAL(10,2),\n",
    "            Seat_Availability VARCHAR(255)\n",
    "        )\n",
    "        \"\"\")\n",
    "\n",
    "        # Insert data into the table\n",
    "        for _, detail in df.iterrows():\n",
    "            cursor.execute(\"\"\"\n",
    "            INSERT INTO bus_details (\n",
    "                Route_Name, Route_Link, Bus_Name, Bus_Type, Departing_Time,\n",
    "                Duration, Reaching_Time, Star_Rating, Price, Seat_Availability\n",
    "            ) VALUES (%s, %s, %s, %s, %s, %s, %s, %s, %s, %s)\n",
    "            \"\"\", (\n",
    "                detail['Route_Name'], detail['Route_Link'], detail['Bus_Name'],\n",
    "                detail['Bus_Type'], detail['Departing_Time'], detail['Duration'],\n",
    "                detail['Reaching_Time'], detail['Star_Rating'], detail['Price'],\n",
    "                detail['Seat_Availability']\n",
    "            ))\n",
    "\n",
    "        # Commit the transaction\n",
    "        connection.commit()\n",
    "        cursor.close()\n",
    "        print(\"Data inserted successfully into MySQL database.\")\n",
    "\n",
    "    except mysql.connector.Error as err:\n",
    "        print(f\"Error: {err}\")\n",
    "\n",
    "# Main function to connect to MySQL, create database and insert data\n",
    "def main():\n",
    "    database_name = 'redbus_1'\n",
    "\n",
    "    try:\n",
    "        # Establish connection to MySQL server (without specifying database)\n",
    "        connection = mysql.connector.connect(\n",
    "            host='127.0.0.1',\n",
    "            port='3306',\n",
    "            user='root',\n",
    "            password='1234'\n",
    "        )\n",
    "\n",
    "        cursor = connection.cursor()\n",
    "        # Create the database if it doesn't exist\n",
    "        create_database(cursor, database_name)\n",
    "        cursor.close()\n",
    "        connection.close()\n",
    "\n",
    "        # Reconnect to the specified database\n",
    "        connection = mysql.connector.connect(\n",
    "            host='127.0.0.1',\n",
    "            port='3306',\n",
    "            user='root',\n",
    "            password='1234',\n",
    "            database=database_name\n",
    "        )\n",
    "\n",
    "        # List of CSV files to be inserted into the database\n",
    "        csv_files = [\n",
    "            r'C:\\Users\\Administrator\\Desktop\\redbus\\jksrtc_bus_details.csv',\n",
    "            r'C:\\Users\\Administrator\\Desktop\\redbus\\apsrtc_bus_details.csv',\n",
    "            r'C:\\Users\\Administrator\\Desktop\\redbus\\ctutc_bus_deatails.csv',\n",
    "            r'C:\\Users\\Administrator\\Desktop\\redbus\\hrtc_bus_details.csv',\n",
    "            r'C:\\Users\\Administrator\\Desktop\\redbus\\ksrtc_bus_details.csv',\n",
    "            r'C:\\Users\\Administrator\\Desktop\\redbus\\ktcl_bus_details.csv',\n",
    "            r'C:\\Users\\Administrator\\Desktop\\redbus\\sbstc_bus_details.csv',\n",
    "            r'C:\\Users\\Administrator\\Desktop\\redbus\\kaac_bus_details.csv',\n",
    "            r'C:\\Users\\Administrator\\Desktop\\redbus\\upsrtc_bus_details.csv',\n",
    "            r'C:\\Users\\Administrator\\Desktop\\redbus\\wbtc_bus_details.csv'\n",
    "        ]\n",
    "\n",
    "        # Loop through each CSV file and insert data into MySQL\n",
    "        for csv_file in csv_files:\n",
    "            if os.path.exists(csv_file):\n",
    "                df = pd.read_csv(csv_file)\n",
    "                insert_data_from_df_to_mysql(df, connection)\n",
    "            else:\n",
    "                print(f\"File not found: {csv_file}\")\n",
    "\n",
    "        connection.close()\n",
    "\n",
    "    except mysql.connector.Error as err:\n",
    "        print(f\"Error: {err}\")\n",
    "\n",
    "if __name__ == \"__main__\":\n",
    "    main()\n"
   ]
  },
  {
   "cell_type": "code",
   "execution_count": 11,
   "metadata": {},
   "outputs": [
    {
     "name": "stderr",
     "output_type": "stream",
     "text": [
      "C:\\Users\\Administrator\\AppData\\Local\\Temp\\ipykernel_13388\\1652545160.py:11: FutureWarning: A value is trying to be set on a copy of a DataFrame or Series through chained assignment using an inplace method.\n",
      "The behavior will change in pandas 3.0. This inplace method will never work because the intermediate object on which we are setting values always behaves as a copy.\n",
      "\n",
      "For example, when doing 'df[col].method(value, inplace=True)', try using 'df.method({col: value}, inplace=True)' or df[col] = df[col].method(value) instead, to perform the operation inplace on the original object.\n",
      "\n",
      "\n",
      "  df['Price'].fillna(0.0, inplace=True)\n",
      "C:\\Users\\Administrator\\AppData\\Local\\Temp\\ipykernel_13388\\1652545160.py:11: FutureWarning: A value is trying to be set on a copy of a DataFrame or Series through chained assignment using an inplace method.\n",
      "The behavior will change in pandas 3.0. This inplace method will never work because the intermediate object on which we are setting values always behaves as a copy.\n",
      "\n",
      "For example, when doing 'df[col].method(value, inplace=True)', try using 'df.method({col: value}, inplace=True)' or df[col] = df[col].method(value) instead, to perform the operation inplace on the original object.\n",
      "\n",
      "\n",
      "  df['Price'].fillna(0.0, inplace=True)\n"
     ]
    },
    {
     "name": "stdout",
     "output_type": "stream",
     "text": [
      "Data inserted successfully into MySQL database.\n",
      "Data inserted successfully into MySQL database.\n"
     ]
    },
    {
     "name": "stderr",
     "output_type": "stream",
     "text": [
      "C:\\Users\\Administrator\\AppData\\Local\\Temp\\ipykernel_13388\\1652545160.py:11: FutureWarning: A value is trying to be set on a copy of a DataFrame or Series through chained assignment using an inplace method.\n",
      "The behavior will change in pandas 3.0. This inplace method will never work because the intermediate object on which we are setting values always behaves as a copy.\n",
      "\n",
      "For example, when doing 'df[col].method(value, inplace=True)', try using 'df.method({col: value}, inplace=True)' or df[col] = df[col].method(value) instead, to perform the operation inplace on the original object.\n",
      "\n",
      "\n",
      "  df['Price'].fillna(0.0, inplace=True)\n"
     ]
    },
    {
     "name": "stdout",
     "output_type": "stream",
     "text": [
      "Data inserted successfully into MySQL database.\n"
     ]
    },
    {
     "name": "stderr",
     "output_type": "stream",
     "text": [
      "C:\\Users\\Administrator\\AppData\\Local\\Temp\\ipykernel_13388\\1652545160.py:11: FutureWarning: A value is trying to be set on a copy of a DataFrame or Series through chained assignment using an inplace method.\n",
      "The behavior will change in pandas 3.0. This inplace method will never work because the intermediate object on which we are setting values always behaves as a copy.\n",
      "\n",
      "For example, when doing 'df[col].method(value, inplace=True)', try using 'df.method({col: value}, inplace=True)' or df[col] = df[col].method(value) instead, to perform the operation inplace on the original object.\n",
      "\n",
      "\n",
      "  df['Price'].fillna(0.0, inplace=True)\n"
     ]
    },
    {
     "name": "stdout",
     "output_type": "stream",
     "text": [
      "Data inserted successfully into MySQL database.\n"
     ]
    },
    {
     "name": "stderr",
     "output_type": "stream",
     "text": [
      "C:\\Users\\Administrator\\AppData\\Local\\Temp\\ipykernel_13388\\1652545160.py:11: FutureWarning: A value is trying to be set on a copy of a DataFrame or Series through chained assignment using an inplace method.\n",
      "The behavior will change in pandas 3.0. This inplace method will never work because the intermediate object on which we are setting values always behaves as a copy.\n",
      "\n",
      "For example, when doing 'df[col].method(value, inplace=True)', try using 'df.method({col: value}, inplace=True)' or df[col] = df[col].method(value) instead, to perform the operation inplace on the original object.\n",
      "\n",
      "\n",
      "  df['Price'].fillna(0.0, inplace=True)\n"
     ]
    },
    {
     "name": "stdout",
     "output_type": "stream",
     "text": [
      "Data inserted successfully into MySQL database.\n",
      "Data inserted successfully into MySQL database.\n"
     ]
    },
    {
     "name": "stderr",
     "output_type": "stream",
     "text": [
      "C:\\Users\\Administrator\\AppData\\Local\\Temp\\ipykernel_13388\\1652545160.py:11: FutureWarning: A value is trying to be set on a copy of a DataFrame or Series through chained assignment using an inplace method.\n",
      "The behavior will change in pandas 3.0. This inplace method will never work because the intermediate object on which we are setting values always behaves as a copy.\n",
      "\n",
      "For example, when doing 'df[col].method(value, inplace=True)', try using 'df.method({col: value}, inplace=True)' or df[col] = df[col].method(value) instead, to perform the operation inplace on the original object.\n",
      "\n",
      "\n",
      "  df['Price'].fillna(0.0, inplace=True)\n",
      "C:\\Users\\Administrator\\AppData\\Local\\Temp\\ipykernel_13388\\1652545160.py:11: FutureWarning: A value is trying to be set on a copy of a DataFrame or Series through chained assignment using an inplace method.\n",
      "The behavior will change in pandas 3.0. This inplace method will never work because the intermediate object on which we are setting values always behaves as a copy.\n",
      "\n",
      "For example, when doing 'df[col].method(value, inplace=True)', try using 'df.method({col: value}, inplace=True)' or df[col] = df[col].method(value) instead, to perform the operation inplace on the original object.\n",
      "\n",
      "\n",
      "  df['Price'].fillna(0.0, inplace=True)\n"
     ]
    },
    {
     "name": "stdout",
     "output_type": "stream",
     "text": [
      "Data inserted successfully into MySQL database.\n",
      "File not found: C:\\Users\\Administrator\\Desktop\\redbus\\tsrtc_bus_details.csv\n"
     ]
    },
    {
     "name": "stderr",
     "output_type": "stream",
     "text": [
      "C:\\Users\\Administrator\\AppData\\Local\\Temp\\ipykernel_13388\\1652545160.py:11: FutureWarning: A value is trying to be set on a copy of a DataFrame or Series through chained assignment using an inplace method.\n",
      "The behavior will change in pandas 3.0. This inplace method will never work because the intermediate object on which we are setting values always behaves as a copy.\n",
      "\n",
      "For example, when doing 'df[col].method(value, inplace=True)', try using 'df.method({col: value}, inplace=True)' or df[col] = df[col].method(value) instead, to perform the operation inplace on the original object.\n",
      "\n",
      "\n",
      "  df['Price'].fillna(0.0, inplace=True)\n"
     ]
    },
    {
     "name": "stdout",
     "output_type": "stream",
     "text": [
      "Data inserted successfully into MySQL database.\n",
      "Data inserted successfully into MySQL database.\n"
     ]
    },
    {
     "name": "stderr",
     "output_type": "stream",
     "text": [
      "C:\\Users\\Administrator\\AppData\\Local\\Temp\\ipykernel_13388\\1652545160.py:11: FutureWarning: A value is trying to be set on a copy of a DataFrame or Series through chained assignment using an inplace method.\n",
      "The behavior will change in pandas 3.0. This inplace method will never work because the intermediate object on which we are setting values always behaves as a copy.\n",
      "\n",
      "For example, when doing 'df[col].method(value, inplace=True)', try using 'df.method({col: value}, inplace=True)' or df[col] = df[col].method(value) instead, to perform the operation inplace on the original object.\n",
      "\n",
      "\n",
      "  df['Price'].fillna(0.0, inplace=True)\n"
     ]
    }
   ],
   "source": [
    "import pandas as pd\n",
    "import mysql.connector\n",
    "import os\n",
    "\n",
    "# Function to preprocess the DataFrame\n",
    "def preprocess_df(df):\n",
    "    # Remove 'INR' prefix from the 'Price' column and convert to float\n",
    "    df['Price'] = df['Price'].replace({'INR ': ''}, regex=True).astype(float)\n",
    "\n",
    "    # Replace NaN values in 'Price' with 0.0\n",
    "    df['Price'].fillna(0.0, inplace=True)\n",
    "\n",
    "    # Replace NaN values in other columns with appropriate default values\n",
    "    df.fillna({\n",
    "        'Route_Name': '',\n",
    "        'Route_Link': '',\n",
    "        'Bus_Name': '',\n",
    "        'Bus_Type': '',\n",
    "        'Departing_Time': '00:00:00',\n",
    "        'Duration': '',\n",
    "        'Reaching_Time': '00:00:00',\n",
    "        'Star_Rating': 0.0,\n",
    "        'Seat_Availability': ''\n",
    "    }, inplace=True)\n",
    "\n",
    "    return df\n",
    "\n",
    "# Function to insert data from DataFrame to MySQL\n",
    "def insert_data_from_df_to_mysql(df):\n",
    "    try:\n",
    "        # Establish connection to the MySQL database\n",
    "        connection = mysql.connector.connect(\n",
    "            host='127.0.0.1',\n",
    "            port='3306',\n",
    "            user='root',\n",
    "            password='1234',\n",
    "            database='redbus_1'\n",
    "        )\n",
    "\n",
    "        cursor = connection.cursor()\n",
    "        # Create table if it does not exist\n",
    "        cursor.execute(\"\"\"\n",
    "        CREATE TABLE IF NOT EXISTS bus_details (\n",
    "            Route_Name TEXT,\n",
    "            Route_Link TEXT,\n",
    "            Bus_Name TEXT,\n",
    "            Bus_Type TEXT,\n",
    "            Departing_Time TIME,\n",
    "            Duration TEXT,\n",
    "            Reaching_Time TIME,\n",
    "            Star_Rating FLOAT,\n",
    "            Price DECIMAL(10,2),\n",
    "            Seat_Availability VARCHAR(255)\n",
    "        )\n",
    "        \"\"\")\n",
    "\n",
    "        # Insert data into the table\n",
    "        for _, detail in df.iterrows():\n",
    "            cursor.execute(\"\"\"\n",
    "            INSERT INTO bus_details (\n",
    "                Route_Name, Route_Link, Bus_Name, Bus_Type, Departing_Time,\n",
    "                Duration, Reaching_Time, Star_Rating, Price, Seat_Availability\n",
    "            ) VALUES (%s, %s, %s, %s, %s, %s, %s, %s, %s, %s)\n",
    "            \"\"\", (\n",
    "                detail['Route_Name'], detail['Route_Link'], detail['Bus_Name'],\n",
    "                detail['Bus_Type'], detail['Departing_Time'], detail['Duration'],\n",
    "                detail['Reaching_Time'], detail['Star_Rating'], detail['Price'],\n",
    "                detail['Seat_Availability']\n",
    "            ))\n",
    "\n",
    "        # Commit the transaction\n",
    "        connection.commit()\n",
    "        cursor.close()\n",
    "        connection.close()\n",
    "\n",
    "        print(\"Data inserted successfully into MySQL database.\")\n",
    "\n",
    "    except mysql.connector.Error as err:\n",
    "        print(f\"Error: {err}\")\n",
    "\n",
    "# List of CSV files to be inserted into the database\n",
    "csv_files = [\n",
    "    r'C:\\Users\\Administrator\\Desktop\\redbus\\jksrtc_bus_details.csv',\n",
    "    r'C:\\Users\\Administrator\\Desktop\\redbus\\apsrtc_bus_details.csv',\n",
    "    r'C:\\Users\\Administrator\\Desktop\\redbus\\ctutc_bus_deatails.csv',\n",
    "    r'C:\\Users\\Administrator\\Desktop\\redbus\\hrtc_bus_details.csv',\n",
    "    r'C:\\Users\\Administrator\\Desktop\\redbus\\ksrtc_bus_details.csv',\n",
    "    r'C:\\Users\\Administrator\\Desktop\\redbus\\ktcl_bus_details.csv',\n",
    "    r'C:\\Users\\Administrator\\Desktop\\redbus\\sbstc_bus_details.csv',\n",
    "    r'C:\\Users\\Administrator\\Desktop\\redbus\\tsrtc_bus_details.csv',\n",
    "    r'C:\\Users\\Administrator\\Desktop\\redbus\\upsrtc_bus_details.csv',\n",
    "    r'C:\\Users\\Administrator\\Desktop\\redbus\\wbtc_bus_details.csv'\n",
    "]\n",
    "\n",
    "# Loop through each CSV file, preprocess the data, and insert it into MySQL\n",
    "for csv_file in csv_files:\n",
    "    if os.path.exists(csv_file):\n",
    "        df = pd.read_csv(csv_file)\n",
    "        df = preprocess_df(df)\n",
    "        insert_data_from_df_to_mysql(df)\n",
    "    else:\n",
    "        print(f\"File not found: {csv_file}\")\n"
   ]
  }
 ],
 "metadata": {
  "kernelspec": {
   "display_name": ".venv",
   "language": "python",
   "name": "python3"
  },
  "language_info": {
   "codemirror_mode": {
    "name": "ipython",
    "version": 3
   },
   "file_extension": ".py",
   "mimetype": "text/x-python",
   "name": "python",
   "nbconvert_exporter": "python",
   "pygments_lexer": "ipython3",
   "version": "3.12.2"
  }
 },
 "nbformat": 4,
 "nbformat_minor": 2
}
